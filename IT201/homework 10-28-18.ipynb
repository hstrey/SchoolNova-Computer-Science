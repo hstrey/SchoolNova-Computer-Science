{
 "cells": [
  {
   "cell_type": "markdown",
   "metadata": {},
   "source": [
    "# Homework 10-28-18\n",
    "last week we created a dice class"
   ]
  },
  {
   "cell_type": "code",
   "execution_count": 3,
   "metadata": {},
   "outputs": [],
   "source": [
    "import random"
   ]
  },
  {
   "cell_type": "code",
   "execution_count": 8,
   "metadata": {},
   "outputs": [],
   "source": [
    "class Dice:\n",
    "    \n",
    "    def __init__(self,sides):\n",
    "        self.sides = sides\n",
    "        \n",
    "    def roll(self):\n",
    "        return random.choice(self.sides)"
   ]
  },
  {
   "cell_type": "code",
   "execution_count": 9,
   "metadata": {},
   "outputs": [
    {
     "name": "stdout",
     "output_type": "stream",
     "text": [
      "three\n"
     ]
    }
   ],
   "source": [
    "mydie = Dice(['one','two','three','four'])\n",
    "print(mydie.roll())"
   ]
  },
  {
   "cell_type": "code",
   "execution_count": 7,
   "metadata": {},
   "outputs": [],
   "source": [
    "# as homework, I want you to create another class method\n",
    "# called roll_many(n) that rolls the die n times and returns a list\n",
    "# of the rolls\n",
    "#\n",
    "# please write code here:\n",
    "class Dice:\n",
    "    \n",
    "    def __init__(self,sides):\n",
    "        self.sides = sides\n",
    "        \n",
    "    def roll(self):\n",
    "        return random.choice(self.sides)\n",
    "    \n",
    "    def roll_many(self,n):\n",
    "        return [self.roll() for i in range(n)]\n"
   ]
  },
  {
   "cell_type": "code",
   "execution_count": 8,
   "metadata": {},
   "outputs": [
    {
     "name": "stdout",
     "output_type": "stream",
     "text": [
      "['three', 'four', 'four', 'one', 'two']\n"
     ]
    }
   ],
   "source": [
    "mydie = Dice(['one','two','three','four'])\n",
    "print(mydie.roll_many(5))"
   ]
  },
  {
   "cell_type": "code",
   "execution_count": 13,
   "metadata": {},
   "outputs": [
    {
     "data": {
      "text/plain": [
       "[1, 4, 9, 16, 25]"
      ]
     },
     "execution_count": 13,
     "metadata": {},
     "output_type": "execute_result"
    }
   ],
   "source": [
    "[(x+1)**2 for x in range(5) if x!=9]"
   ]
  },
  {
   "cell_type": "code",
   "execution_count": null,
   "metadata": {},
   "outputs": [],
   "source": []
  }
 ],
 "metadata": {
  "kernelspec": {
   "display_name": "Python 3",
   "language": "python",
   "name": "python3"
  },
  "language_info": {
   "codemirror_mode": {
    "name": "ipython",
    "version": 3
   },
   "file_extension": ".py",
   "mimetype": "text/x-python",
   "name": "python",
   "nbconvert_exporter": "python",
   "pygments_lexer": "ipython3",
   "version": "3.6.6"
  }
 },
 "nbformat": 4,
 "nbformat_minor": 2
}
