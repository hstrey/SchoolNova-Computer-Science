{
 "cells": [
  {
   "cell_type": "code",
   "execution_count": 1,
   "metadata": {},
   "outputs": [],
   "source": [
    "import arcade\n",
    "\n",
    "# Set constants for the screen size\n",
    "SCREEN_WIDTH = 600\n",
    "SCREEN_HEIGHT = 600\n",
    "\n",
    "# Open the window. Set the window title and dimensions\n",
    "arcade.open_window(SCREEN_WIDTH, SCREEN_HEIGHT, \"Drawing Example\")\n",
    "\n",
    "# Set the background color\n",
    "arcade.set_background_color(arcade.color.WHITE)\n",
    "\n",
    "# Clear screen and start render process\n",
    "arcade.start_render()\n",
    "\n",
    "# --- Drawing Commands Will Go Here ---\n",
    "\n",
    "# Draw the face\n",
    "x = 300; y = 300; radius = 200\n",
    "arcade.draw_circle_filled(x, y, radius, arcade.color.YELLOW)\n",
    "\n",
    "# Draw the right eye\n",
    "x = 370; y = 350; radius = 20\n",
    "arcade.draw_circle_filled(x, y, radius, arcade.color.BLACK)\n",
    "\n",
    "# Draw the left eye\n",
    "x = 230; y = 350; radius = 20\n",
    "arcade.draw_circle_filled(x, y, radius, arcade.color.BLACK)\n",
    "\n",
    "# Draw the smile\n",
    "x = 300; y = 280; width = 120; height = 100\n",
    "start_angle = 190; end_angle = 350\n",
    "arcade.draw_arc_outline(x, y, width, height, arcade.color.BLACK,\n",
    "                        start_angle, end_angle, 10)\n",
    "\n",
    "# Finish drawing and display the result\n",
    "arcade.finish_render()\n",
    "\n",
    "# Keep the window open until the user hits the 'close' button\n",
    "arcade.run()\n"
   ]
  },
  {
   "cell_type": "code",
   "execution_count": null,
   "metadata": {},
   "outputs": [],
   "source": []
  }
 ],
 "metadata": {
  "kernelspec": {
   "display_name": "Python 3",
   "language": "python",
   "name": "python3"
  },
  "language_info": {
   "codemirror_mode": {
    "name": "ipython",
    "version": 3
   },
   "file_extension": ".py",
   "mimetype": "text/x-python",
   "name": "python",
   "nbconvert_exporter": "python",
   "pygments_lexer": "ipython3",
   "version": "3.7.0"
  }
 },
 "nbformat": 4,
 "nbformat_minor": 2
}
