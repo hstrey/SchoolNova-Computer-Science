{
 "cells": [
  {
   "cell_type": "code",
   "execution_count": 1,
   "metadata": {},
   "outputs": [],
   "source": [
    "%matplotlib inline\n",
    "import numpy as np\n",
    "import matplotlib.pyplot as plt"
   ]
  },
  {
   "cell_type": "code",
   "execution_count": 2,
   "metadata": {},
   "outputs": [],
   "source": [
    "#Initial pendulum cord length and bob mass: 25cm, 200g\n",
    "\n",
    "pendAngle1 = [30, 20, 10, 45, 40]\n",
    "pendAngle1 = np.array(pendAngle1)\n",
    "\n",
    "pendPeriod1 = [0.988, 0.997, 0.983, 1.001, 0.999]\n",
    "pendPeriod1 = np.array(pendPeriod1)"
   ]
  },
  {
   "cell_type": "code",
   "execution_count": 3,
   "metadata": {},
   "outputs": [],
   "source": [
    "#this is the period for the pendulum at 25cm, 200g, and 20 degrees\n",
    "#the difference in these represents the natural variance in our measurements\n",
    "\n",
    "pendPeriodC = [0.963, 0.988, 0.96, 0.989, 1.001]\n",
    "pendPeriodC = np.array(pendPeriodC)"
   ]
  },
  {
   "cell_type": "code",
   "execution_count": 4,
   "metadata": {},
   "outputs": [],
   "source": [
    "#now back to your scheduled broadcast; 30cm, 20 degrees\n",
    "\n",
    "pendMass2 = [200, 300, 400, 500, 600]\n",
    "pendMass2 = np.array(pendMass2)\n",
    "\n",
    "pendPeriod2 = [1.018, 1.063, 1.053, 1.065, 1.072]\n",
    "pendPeriod2 = np.array(pendPeriod2)"
   ]
  },
  {
   "cell_type": "code",
   "execution_count": 5,
   "metadata": {},
   "outputs": [],
   "source": [
    "#200g, 20 degrees\n",
    "\n",
    "pendLength3 = [20, 25, 30, 35, 40, 45, 50, 55]\n",
    "pendLength3 = np.array(pendLength3)\n",
    "\n",
    "pendPeriod3 = [0.898, 1.005, 1.088, 1.175, 1.264, 1.322, 1.399, 1.471]\n",
    "pendPeriod3 = np.array(pendPeriod3)"
   ]
  },
  {
   "cell_type": "code",
   "execution_count": null,
   "metadata": {},
   "outputs": [],
   "source": []
  }
 ],
 "metadata": {
  "kernelspec": {
   "display_name": "Python 3",
   "language": "python",
   "name": "python3"
  },
  "language_info": {
   "codemirror_mode": {
    "name": "ipython",
    "version": 3
   },
   "file_extension": ".py",
   "mimetype": "text/x-python",
   "name": "python",
   "nbconvert_exporter": "python",
   "pygments_lexer": "ipython3",
   "version": "3.6.6"
  }
 },
 "nbformat": 4,
 "nbformat_minor": 2
}
