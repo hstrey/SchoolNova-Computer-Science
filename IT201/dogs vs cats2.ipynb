{
 "cells": [
  {
   "cell_type": "code",
   "execution_count": 2,
   "metadata": {},
   "outputs": [
    {
     "name": "stdout",
     "output_type": "stream",
     "text": [
      "['.DS_Store', 'test', 'test.zip', 'train', 'train.zip', 'sample_submission.csv']\n"
     ]
    }
   ],
   "source": [
    "# This Python 3 environment comes with many helpful analytics libraries installed\n",
    "# It is defined by the kaggle/python docker image: https://github.com/kaggle/docker-python\n",
    "# For example, here's several helpful packages to load in \n",
    "\n",
    "import numpy as np # linear algebra\n",
    "import pandas as pd # data processing, CSV file I/O (e.g. pd.read_csv)\n",
    "import cv2\n",
    "import matplotlib.pyplot as plt\n",
    "import tensorflow as tf\n",
    "from tensorflow.keras.models import Sequential\n",
    "from tensorflow.keras.layers import Dense, Flatten, Dropout, Activation, Conv2D, MaxPooling2D\n",
    "\n",
    "# Input data files are available in the \"../input/\" directory.\n",
    "# For example, running this (by clicking run or pressing Shift+Enter) will list the files in the input directory\n",
    "\n",
    "import os\n",
    "\n",
    "import numpy as np # linear algebra\n",
    "import pandas as pd # data processing, CSV file I/O (e.g. pd.read_csv)\n",
    "import cv2\n",
    "import matplotlib.pyplot as plt\n",
    "import tensorflow as tf\n",
    "from tensorflow.keras.models import Sequential\n",
    "from tensorflow.keras.layers import Dense, Flatten, Dropout, Activation, Conv2D, MaxPooling2D\n",
    "\n",
    "# Input data files are available in the \"../input/\" directory.\n",
    "# For example, running this (by clicking run or pressing Shift+Enter) will list the files in the input directory\n",
    "\n",
    "import os\n",
    "print(os.listdir(\"/Users/hstrey/Downloads/dogs-vs-cats-redux-kernels-edition\"))"
   ]
  },
  {
   "cell_type": "code",
   "execution_count": 4,
   "metadata": {},
   "outputs": [
    {
     "data": {
      "image/png": "[encoded data removed]",
      "text/plain": [
       "<Figure size 432x288 with 1 Axes>"
      ]
     },
     "metadata": {
      "needs_background": "light"
     },
     "output_type": "display_data"
    }
   ],
   "source": [
    "main_dir = \"/Users/hstrey/Downloads/dogs-vs-cats-redux-kernels-edition/\"\n",
    "train_dir = \"train/\"\n",
    "path = os.path.join(main_dir,train_dir)\n",
    "\n",
    "for p in os.listdir(path):\n",
    "    category = p.split(\".\")[0]\n",
    "    img_array = cv2.imread(os.path.join(path,p),cv2.IMREAD_GRAYSCALE)\n",
    "    new_img_array = cv2.resize(img_array, dsize=(80, 80))\n",
    "    plt.imshow(new_img_array,cmap=\"gray\")\n",
    "    break"
   ]
  },
  {
   "cell_type": "code",
   "execution_count": 5,
   "metadata": {},
   "outputs": [],
   "source": [
    "X = []\n",
    "y = []\n",
    "convert = lambda category : int(category == 'dog')\n",
    "def create_test_data(path):\n",
    "    for p in os.listdir(path):\n",
    "        category = p.split(\".\")[0]\n",
    "        category = convert(category)\n",
    "        img_array = cv2.imread(os.path.join(path,p),cv2.IMREAD_GRAYSCALE)\n",
    "        new_img_array = cv2.resize(img_array, dsize=(80, 80))\n",
    "        X.append(new_img_array)\n",
    "        y.append(category)"
   ]
  },
  {
   "cell_type": "code",
   "execution_count": 6,
   "metadata": {},
   "outputs": [],
   "source": [
    "create_test_data(path)\n",
    "X = np.array(X).reshape(-1, 80,80,1)\n",
    "y = np.array(y)"
   ]
  },
  {
   "cell_type": "code",
   "execution_count": 7,
   "metadata": {},
   "outputs": [],
   "source": [
    "#Normalize data\n",
    "X = X/255.0"
   ]
  },
  {
   "cell_type": "code",
   "execution_count": 9,
   "metadata": {},
   "outputs": [
    {
     "name": "stdout",
     "output_type": "stream",
     "text": [
      "WARNING:tensorflow:From /Users/hstrey/miniconda3/envs/tf/lib/python3.7/site-packages/tensorflow/python/ops/resource_variable_ops.py:435: colocate_with (from tensorflow.python.framework.ops) is deprecated and will be removed in a future version.\n",
      "Instructions for updating:\n",
      "Colocations handled automatically by placer.\n"
     ]
    }
   ],
   "source": [
    "model = Sequential()\n",
    "# Adds a densely-connected layer with 64 units to the model:\n",
    "model.add(Conv2D(64,(3,3), activation = 'relu', input_shape = X.shape[1:]))\n",
    "model.add(MaxPooling2D(pool_size = (2,2)))\n",
    "# Add another:\n",
    "model.add(Conv2D(64,(3,3), activation = 'relu'))\n",
    "model.add(MaxPooling2D(pool_size = (2,2)))\n",
    "\n",
    "model.add(Flatten())\n",
    "model.add(Dense(64, activation='relu'))\n",
    "# Add a softmax layer with 10 output units:\n",
    "model.add(Dense(1, activation='sigmoid'))\n",
    "\n",
    "model.compile(optimizer=\"adam\",\n",
    "              loss='binary_crossentropy',\n",
    "              metrics=['accuracy'])"
   ]
  },
  {
   "cell_type": "code",
   "execution_count": 10,
   "metadata": {},
   "outputs": [
    {
     "name": "stdout",
     "output_type": "stream",
     "text": [
      "Train on 20000 samples, validate on 5000 samples\n",
      "WARNING:tensorflow:From /Users/hstrey/miniconda3/envs/tf/lib/python3.7/site-packages/tensorflow/python/ops/math_ops.py:3066: to_int32 (from tensorflow.python.ops.math_ops) is deprecated and will be removed in a future version.\n",
      "Instructions for updating:\n",
      "Use tf.cast instead.\n",
      "Epoch 1/10\n",
      "20000/20000 [==============================] - 158s 8ms/sample - loss: 0.6245 - acc: 0.6417 - val_loss: 0.5690 - val_acc: 0.7064\n",
      "Epoch 2/10\n",
      "20000/20000 [==============================] - 162s 8ms/sample - loss: 0.5067 - acc: 0.7578 - val_loss: 0.5008 - val_acc: 0.7552\n",
      "Epoch 3/10\n",
      "20000/20000 [==============================] - 162s 8ms/sample - loss: 0.4467 - acc: 0.7894 - val_loss: 0.4969 - val_acc: 0.7628\n",
      "Epoch 4/10\n",
      "20000/20000 [==============================] - 162s 8ms/sample - loss: 0.3954 - acc: 0.8191 - val_loss: 0.4570 - val_acc: 0.7846\n",
      "Epoch 5/10\n",
      "20000/20000 [==============================] - 1368s 68ms/sample - loss: 0.3362 - acc: 0.8526 - val_loss: 0.5370 - val_acc: 0.7682\n",
      "Epoch 6/10\n",
      "20000/20000 [==============================] - 1265s 63ms/sample - loss: 0.2677 - acc: 0.8881 - val_loss: 0.5042 - val_acc: 0.7900\n",
      "Epoch 7/10\n",
      "20000/20000 [==============================] - 167s 8ms/sample - loss: 0.2012 - acc: 0.9196 - val_loss: 0.5712 - val_acc: 0.7820\n",
      "Epoch 8/10\n",
      "20000/20000 [==============================] - 163s 8ms/sample - loss: 0.1279 - acc: 0.9535 - val_loss: 0.6798 - val_acc: 0.7726\n",
      "Epoch 9/10\n",
      "20000/20000 [==============================] - 160s 8ms/sample - loss: 0.0818 - acc: 0.9718 - val_loss: 0.7604 - val_acc: 0.7832\n",
      "Epoch 10/10\n",
      "20000/20000 [==============================] - 159s 8ms/sample - loss: 0.0464 - acc: 0.9856 - val_loss: 0.9067 - val_acc: 0.7874\n"
     ]
    },
    {
     "data": {
      "text/plain": [
       "<tensorflow.python.keras.callbacks.History at 0x13b418390>"
      ]
     },
     "execution_count": 10,
     "metadata": {},
     "output_type": "execute_result"
    }
   ],
   "source": [
    "model.fit(X, y, epochs=10, batch_size=32, validation_split=0.2)"
   ]
  },
  {
   "cell_type": "code",
   "execution_count": 21,
   "metadata": {},
   "outputs": [],
   "source": [
    "train_dir = \"test/\"\n",
    "path = os.path.join(main_dir,train_dir)\n",
    "#os.listdir(path)\n",
    "\n",
    "X_test = []\n",
    "id_line = []\n",
    "def create_test1_data(path):\n",
    "    for p in os.listdir(path):\n",
    "        id_line.append(p.split(\".\")[0])\n",
    "        img_array = cv2.imread(os.path.join(path,p),cv2.IMREAD_GRAYSCALE)\n",
    "        new_img_array = cv2.resize(img_array, dsize=(80, 80))\n",
    "        X_test.append(new_img_array)\n",
    "create_test1_data(path)\n",
    "X_testI = np.array(X_test)\n",
    "X_test = X_testI.reshape(-1,80,80,1)/255"
   ]
  },
  {
   "cell_type": "code",
   "execution_count": 12,
   "metadata": {},
   "outputs": [],
   "source": [
    "predictions = model.predict(X_test)"
   ]
  },
  {
   "cell_type": "code",
   "execution_count": 13,
   "metadata": {},
   "outputs": [],
   "source": [
    "predicted_val = [int(round(p[0])) for p in predictions]"
   ]
  },
  {
   "cell_type": "code",
   "execution_count": null,
   "metadata": {},
   "outputs": [],
   "source": [
    "plt.imshow(X_testI[1],cmap=\"gray\")"
   ]
  },
  {
   "cell_type": "code",
   "execution_count": null,
   "metadata": {},
   "outputs": [],
   "source": [
    "for i,x in enumerate(X_test):\n",
    "    print(model.predict(np.array([x]))[0])\n",
    "    plt.figure()\n",
    "    plt.imshow(X_testI[i],cmap=\"gray\")"
   ]
  },
  {
   "cell_type": "code",
   "execution_count": null,
   "metadata": {},
   "outputs": [],
   "source": []
  }
 ],
 "metadata": {
  "kernelspec": {
   "display_name": "Python 3",
   "language": "python",
   "name": "python3"
  },
  "language_info": {
   "codemirror_mode": {
    "name": "ipython",
    "version": 3
   },
   "file_extension": ".py",
   "mimetype": "text/x-python",
   "name": "python",
   "nbconvert_exporter": "python",
   "pygments_lexer": "ipython3",
   "version": "3.7.3"
  }
 },
 "nbformat": 4,
 "nbformat_minor": 2
}
