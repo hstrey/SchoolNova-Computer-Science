{
 "cells": [
  {
   "cell_type": "code",
   "execution_count": 32,
   "metadata": {},
   "outputs": [],
   "source": [
    "%matplotlib inline\n",
    "import numpy as np\n",
    "import matplotlib.pyplot as plt\n",
    "import scipy.stats as stats"
   ]
  },
  {
   "cell_type": "code",
   "execution_count": 33,
   "metadata": {},
   "outputs": [
    {
     "data": {
      "text/plain": [
       "array([ 2.21658938,  1.37235238,  1.03189267,  0.78964973,  1.64041054,\n",
       "        1.27276608,  1.22909639, -0.64382743, -1.21770233,  0.20167501])"
      ]
     },
     "execution_count": 33,
     "metadata": {},
     "output_type": "execute_result"
    }
   ],
   "source": [
    "xs = np.random.normal(loc=0,scale=1,size=10)\n",
    "xs"
   ]
  },
  {
   "cell_type": "code",
   "execution_count": 34,
   "metadata": {},
   "outputs": [
    {
     "data": {
      "text/plain": [
       "(array([1., 0., 0., 0., 0., 1., 0., 0., 0., 0., 0., 0., 1., 0., 0., 0., 0.,\n",
       "        1., 0., 1., 0., 2., 1., 0., 1., 0., 0., 0., 0., 1.]),\n",
       " array([-1.21770233, -1.10322594, -0.98874955, -0.87427316, -0.75979677,\n",
       "        -0.64532038, -0.53084399, -0.4163676 , -0.30189121, -0.18741482,\n",
       "        -0.07293843,  0.04153796,  0.15601435,  0.27049074,  0.38496713,\n",
       "         0.49944352,  0.61391991,  0.7283963 ,  0.84287269,  0.95734908,\n",
       "         1.07182547,  1.18630187,  1.30077826,  1.41525465,  1.52973104,\n",
       "         1.64420743,  1.75868382,  1.87316021,  1.9876366 ,  2.10211299,\n",
       "         2.21658938]),\n",
       " <a list of 30 Patch objects>)"
      ]
     },
     "execution_count": 34,
     "metadata": {},
     "output_type": "execute_result"
    },
    {
     "data": {
      "image/png": "[encoded data removed]",
      "text/plain": [
       "<Figure size 432x288 with 1 Axes>"
      ]
     },
     "metadata": {
      "needs_background": "light"
     },
     "output_type": "display_data"
    }
   ],
   "source": [
    "plt.hist(xs,bins=30)"
   ]
  },
  {
   "cell_type": "code",
   "execution_count": 35,
   "metadata": {},
   "outputs": [],
   "source": [
    "x = np.linspace(-6,6,200)\n",
    "gaussian = stats.norm(loc=0)\n",
    "g = gaussian.pdf(x)"
   ]
  },
  {
   "cell_type": "code",
   "execution_count": 36,
   "metadata": {},
   "outputs": [
    {
     "data": {
      "text/plain": [
       "[<matplotlib.lines.Line2D at 0x1a13ac5748>]"
      ]
     },
     "execution_count": 36,
     "metadata": {},
     "output_type": "execute_result"
    },
    {
     "data": {
      "image/png": "[encoded data removed]",
      "text/plain": [
       "<Figure size 432x288 with 1 Axes>"
      ]
     },
     "metadata": {
      "needs_background": "light"
     },
     "output_type": "display_data"
    }
   ],
   "source": [
    "plt.hist(xs,bins=5,density=True)\n",
    "plt.plot(x,g)"
   ]
  },
  {
   "cell_type": "code",
   "execution_count": null,
   "metadata": {},
   "outputs": [],
   "source": []
  }
 ],
 "metadata": {
  "kernelspec": {
   "display_name": "Python 3",
   "language": "python",
   "name": "python3"
  },
  "language_info": {
   "codemirror_mode": {
    "name": "ipython",
    "version": 3
   },
   "file_extension": ".py",
   "mimetype": "text/x-python",
   "name": "python",
   "nbconvert_exporter": "python",
   "pygments_lexer": "ipython3",
   "version": "3.7.0"
  }
 },
 "nbformat": 4,
 "nbformat_minor": 2
}
