{
 "cells": [
  {
   "cell_type": "code",
   "execution_count": 1,
   "metadata": {},
   "outputs": [],
   "source": [
    "%matplotlib inline\n",
    "import numpy as np\n",
    "import matplotlib.pyplot as plt\n",
    "import scipy.stats as stats"
   ]
  },
  {
   "cell_type": "code",
   "execution_count": 2,
   "metadata": {},
   "outputs": [
    {
     "data": {
      "text/plain": [
       "array([ 0.51085208, -0.64712233, -0.3451029 ,  0.36388563, -0.12023149,\n",
       "        0.80869131, -1.29236512,  0.67484003, -0.31674406, -0.63607915])"
      ]
     },
     "execution_count": 2,
     "metadata": {},
     "output_type": "execute_result"
    }
   ],
   "source": [
    "xs = np.random.normal(loc=0,scale=1,size=10)\n",
    "xs"
   ]
  },
  {
   "cell_type": "code",
   "execution_count": 3,
   "metadata": {},
   "outputs": [
    {
     "data": {
      "text/plain": [
       "(array([1., 0., 0., 0., 0., 0., 0., 0., 0., 2., 0., 0., 0., 2., 0., 0., 1.,\n",
       "        0., 0., 0., 0., 0., 0., 1., 0., 1., 0., 0., 1., 1.]),\n",
       " array([-1.29236512, -1.2223299 , -1.15229469, -1.08225948, -1.01222426,\n",
       "        -0.94218905, -0.87215383, -0.80211862, -0.7320834 , -0.66204819,\n",
       "        -0.59201298, -0.52197776, -0.45194255, -0.38190733, -0.31187212,\n",
       "        -0.2418369 , -0.17180169, -0.10176647, -0.03173126,  0.03830395,\n",
       "         0.10833917,  0.17837438,  0.2484096 ,  0.31844481,  0.38848003,\n",
       "         0.45851524,  0.52855046,  0.59858567,  0.66862088,  0.7386561 ,\n",
       "         0.80869131]),\n",
       " <a list of 30 Patch objects>)"
      ]
     },
     "execution_count": 3,
     "metadata": {},
     "output_type": "execute_result"
    },
    {
     "data": {
      "image/png": "[encoded data removed]",
      "text/plain": [
       "<Figure size 432x288 with 1 Axes>"
      ]
     },
     "metadata": {
      "needs_background": "light"
     },
     "output_type": "display_data"
    }
   ],
   "source": [
    "plt.hist(xs,bins=30)"
   ]
  },
  {
   "cell_type": "code",
   "execution_count": 4,
   "metadata": {},
   "outputs": [],
   "source": [
    "x = np.linspace(-6,6,200)\n",
    "gaussian = stats.norm(loc=0)\n",
    "g = gaussian.pdf(x)"
   ]
  },
  {
   "cell_type": "code",
   "execution_count": 15,
   "metadata": {},
   "outputs": [
    {
     "name": "stdout",
     "output_type": "stream",
     "text": [
      "mean:  0.0020039609228334854\n"
     ]
    },
    {
     "data": {
      "text/plain": [
       "[<matplotlib.lines.Line2D at 0x1a1e24a5c0>]"
      ]
     },
     "execution_count": 15,
     "metadata": {},
     "output_type": "execute_result"
    },
    {
     "data": {
      "image/png": "[encoded data removed]",
      "text/plain": [
       "<Figure size 432x288 with 1 Axes>"
      ]
     },
     "metadata": {
      "needs_background": "light"
     },
     "output_type": "display_data"
    }
   ],
   "source": [
    "x = np.linspace(-6,6,200)\n",
    "xs = np.random.normal(loc=0,scale=1,size=100000)\n",
    "print('mean: ',xs.mean())\n",
    "gaussian = stats.norm(loc=0)\n",
    "g = gaussian.pdf(x)\n",
    "plt.hist(xs,bins=30,density=True)\n",
    "plt.plot(x,g)"
   ]
  },
  {
   "cell_type": "code",
   "execution_count": null,
   "metadata": {},
   "outputs": [],
   "source": []
  }
 ],
 "metadata": {
  "kernelspec": {
   "display_name": "Python 3",
   "language": "python",
   "name": "python3"
  },
  "language_info": {
   "codemirror_mode": {
    "name": "ipython",
    "version": 3
   },
   "file_extension": ".py",
   "mimetype": "text/x-python",
   "name": "python",
   "nbconvert_exporter": "python",
   "pygments_lexer": "ipython3",
   "version": "3.7.0"
  }
 },
 "nbformat": 4,
 "nbformat_minor": 2
}
