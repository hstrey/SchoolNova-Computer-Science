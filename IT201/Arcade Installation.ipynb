{
 "cells": [
  {
   "cell_type": "markdown",
   "metadata": {},
   "source": [
    "# Instructions on how to install arcade properly"
   ]
  },
  {
   "cell_type": "markdown",
   "metadata": {},
   "source": [
    "once you are in the console type the following commands:\n",
    "conda create --name arcade python=3.6"
   ]
  },
  {
   "cell_type": "markdown",
   "metadata": {},
   "source": [
    "if you are in Windows type: activate arcade\n",
    "\n",
    "if you are in OS X type: source activate arcade"
   ]
  },
  {
   "cell_type": "markdown",
   "metadata": {},
   "source": [
    "if you are in Windows type: pip install arcade\n",
    "\n",
    "if you are in OS X type: pip install PyObjC arcade"
   ]
  },
  {
   "cell_type": "markdown",
   "metadata": {},
   "source": [
    "For arcade it is best to run the python scripts in an editor.  I recommend PyCharm.  You can install it for free and it explains how to get conda environments to run."
   ]
  },
  {
   "cell_type": "code",
   "execution_count": null,
   "metadata": {},
   "outputs": [],
   "source": []
  }
 ],
 "metadata": {
  "kernelspec": {
   "display_name": "Python 3",
   "language": "python",
   "name": "python3"
  },
  "language_info": {
   "codemirror_mode": {
    "name": "ipython",
    "version": 3
   },
   "file_extension": ".py",
   "mimetype": "text/x-python",
   "name": "python",
   "nbconvert_exporter": "python",
   "pygments_lexer": "ipython3",
   "version": "3.6.6"
  }
 },
 "nbformat": 4,
 "nbformat_minor": 2
}
