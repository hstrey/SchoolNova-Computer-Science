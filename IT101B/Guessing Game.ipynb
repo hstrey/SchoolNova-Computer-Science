{
 "cells": [
  {
   "cell_type": "code",
   "execution_count": 3,
   "metadata": {},
   "outputs": [
    {
     "name": "stdout",
     "output_type": "stream",
     "text": [
      "AHOY! I'm Dread Pirate Roberts, and I have a secret!\n",
      "It is a number from 1 to 99.  I'll give you 6 tries.\n",
      "What's yer guess? 50\n",
      "Too high, landlubber!\n",
      "What's yer guess? 25\n",
      "Too high, landlubber!\n",
      "What's yer guess? 12\n",
      "Too high, landlubber!\n",
      "What's yer guess? 6\n",
      "Too high, landlubber!\n",
      "What's yer guess? 3\n",
      "Too low, ye scurvy dog!\n",
      "What's yer guess? 4\n",
      "Avast! Ye got it! Found my secret, ye did!\n"
     ]
    }
   ],
   "source": [
    "import random\n",
    "secret = random.randint(1,99)\n",
    "\n",
    "guess = 0\n",
    "tries = 0\n",
    "\n",
    "print(\"AHOY! I'm Dread Pirate Roberts, and I have a secret!\")\n",
    "print(\"It is a number from 1 to 99.  I'll give you 6 tries.\")\n",
    "\n",
    "while guess != secret and tries <6:\n",
    "    user_inp = input(\"What's yer guess? \")\n",
    "    guess = int(user_inp)\n",
    "    \n",
    "    if guess < secret:\n",
    "        print(\"Too low, ye scurvy dog!\")\n",
    "    elif guess > secret:\n",
    "        print(\"Too high, landlubber!\")\n",
    "        \n",
    "    tries = tries + 1\n",
    "    \n",
    "if guess==secret:\n",
    "    print(\"Avast! Ye got it! Found my secret, ye did!\")\n",
    "else:\n",
    "    print(\"No more guesses! Better luck next time, matey!\")\n",
    "    print(\"The secret number was\", secret)\n",
    "        "
   ]
  },
  {
   "cell_type": "code",
   "execution_count": null,
   "metadata": {},
   "outputs": [],
   "source": []
  }
 ],
 "metadata": {
  "kernelspec": {
   "display_name": "Python 3",
   "language": "python",
   "name": "python3"
  },
  "language_info": {
   "codemirror_mode": {
    "name": "ipython",
    "version": 3
   },
   "file_extension": ".py",
   "mimetype": "text/x-python",
   "name": "python",
   "nbconvert_exporter": "python",
   "pygments_lexer": "ipython3",
   "version": "3.6.6"
  }
 },
 "nbformat": 4,
 "nbformat_minor": 2
}
