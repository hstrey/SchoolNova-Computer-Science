{
 "cells": [
  {
   "cell_type": "markdown",
   "metadata": {},
   "source": [
    "# Homework 12-09-18"
   ]
  },
  {
   "cell_type": "code",
   "execution_count": 25,
   "metadata": {},
   "outputs": [],
   "source": [
    "# last homework, I asked you to extend the simple Ceasar chipher encode function\n",
    "# instead of shift, we used a code word (password)\n",
    "# as with the string that we want to encode, we convert the letters\n",
    "# of the password into numbers from 0-25 (A -> 0, B -> 1,...,Z -> 25)\n",
    "# The string is then encoded in the following matter:\n",
    "# the first letter is shifted by the first letter of the password\n",
    "# the second letter is shifted by the second letter of the password\n",
    "# continue this way\n",
    "# if you used up all the letters of the password start again with the first letter\n",
    "# und keep going until you have encoded all letters of the string\n",
    "# here is the code that we developed in class"
   ]
  },
  {
   "cell_type": "code",
   "execution_count": 1,
   "metadata": {},
   "outputs": [],
   "source": [
    "def fancy_ceasar_encode(string, password):\n",
    "    # add your code here\n",
    "    code_list=[]\n",
    "    string_list = [ord(c)-65 for c in string]\n",
    "    pw_list = [ord(c)-65 for c in password]\n",
    "    mod_pass = len(pw_list) # the length of the password\n",
    "                            # is used for modulus\n",
    "    for index,letter in enumerate(string_list):\n",
    "        en_letter = (letter + pw_list[index % mod_pass])%26\n",
    "        code_list.append(chr(en_letter+65))\n",
    "    \n",
    "    return \"\".join(code_list)"
   ]
  },
  {
   "cell_type": "code",
   "execution_count": 14,
   "metadata": {},
   "outputs": [
    {
     "name": "stdout",
     "output_type": "stream",
     "text": [
      "SGGOSKNSUAMRAADSSLE\n"
     ]
    }
   ],
   "source": [
    "en = fancy_ceasar_encode('SCHOOLNOVAISAWESOME','AEZ')\n",
    "print(en)"
   ]
  },
  {
   "cell_type": "code",
   "execution_count": 1,
   "metadata": {},
   "outputs": [],
   "source": [
    "# now the question is, how do we decode.  We could write another function that decodes but it is easier\n",
    "# to find the decoding password\n",
    "# please write a function, that converts a password to its decoding password\n",
    "# hint: think about that each letter of the password can be reversed by a negative shift of its value\n",
    "# inverse of A is A since it is no shift\n",
    "# inverse of B is Z (-1 + 26 = 25)\n",
    "# inverse of C is Y (-2 +26 = 24) etc.\n",
    "def convert_password(password):\n",
    "    pw_list = [ord(c)-65 for c in password]\n",
    "    inv_list = []\n",
    "    for letter in pw_list:\n",
    "        inv_letter = (26 - letter) % 26\n",
    "        inv_list.append(chr(inv_letter +65))\n",
    "    return \"\".join(inv_list)"
   ]
  },
  {
   "cell_type": "code",
   "execution_count": 29,
   "metadata": {},
   "outputs": [],
   "source": [
    "# for example, the decoding password for 'AEZ' is 'AWB'"
   ]
  },
  {
   "cell_type": "code",
   "execution_count": 2,
   "metadata": {},
   "outputs": [
    {
     "data": {
      "text/plain": [
       "'AWB'"
      ]
     },
     "execution_count": 2,
     "metadata": {},
     "output_type": "execute_result"
    }
   ],
   "source": [
    "convert_password('AEZ')"
   ]
  },
  {
   "cell_type": "code",
   "execution_count": null,
   "metadata": {},
   "outputs": [],
   "source": []
  }
 ],
 "metadata": {
  "kernelspec": {
   "display_name": "Python 3",
   "language": "python",
   "name": "python3"
  },
  "language_info": {
   "codemirror_mode": {
    "name": "ipython",
    "version": 3
   },
   "file_extension": ".py",
   "mimetype": "text/x-python",
   "name": "python",
   "nbconvert_exporter": "python",
   "pygments_lexer": "ipython3",
   "version": "3.7.0"
  }
 },
 "nbformat": 4,
 "nbformat_minor": 2
}
