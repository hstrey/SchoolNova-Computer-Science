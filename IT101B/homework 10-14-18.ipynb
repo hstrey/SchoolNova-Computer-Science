{
 "cells": [
  {
   "cell_type": "markdown",
   "metadata": {},
   "source": [
    "# Homework 10-14-18\n",
    "Last class we developed a guessing game"
   ]
  },
  {
   "cell_type": "code",
   "execution_count": 7,
   "metadata": {},
   "outputs": [],
   "source": [
    "import random\n",
    "import math as m"
   ]
  },
  {
   "cell_type": "code",
   "execution_count": 1,
   "metadata": {},
   "outputs": [
    {
     "name": "stdout",
     "output_type": "stream",
     "text": [
      "AHOY! I'm Dread Pirate Roberts, and I have a secret!\n",
      "It is a number from 1 to 99.  I'll give you 6 tries\n",
      "What's yer guess?  50\n",
      "Too high, landlubber!\n",
      "What's yer guess?  25\n",
      "Too high, landlubber!\n",
      "What's yer guess?  12\n",
      "Too high, landlubber!\n",
      "What's yer guess?  6\n",
      "Too high, landlubber!\n",
      "What's yer guess?  3\n",
      "Too low, ye scurvy dog!\n",
      "What's yer guess?  4\n",
      "Too low, ye scurvy dog!\n",
      "no more guesses! Better luck next time, matey!\n",
      "The secret number was 5\n"
     ]
    }
   ],
   "source": [
    "secret = random.randint(1,99)\n",
    "\n",
    "guess = 0\n",
    "tries = 0\n",
    "\n",
    "print(\"AHOY! I'm Dread Pirate Roberts, and I have a secret!\")\n",
    "print(\"It is a number from 1 to 99.  I'll give you 6 tries\")\n",
    "\n",
    "while guess != secret and tries < 6:\n",
    "    user_input = input(\"What's yer guess?  \")\n",
    "    guess = int(user_input)\n",
    "    \n",
    "    if guess < secret:\n",
    "        print(\"Too low, ye scurvy dog!\")\n",
    "    elif guess > secret:\n",
    "        print(\"Too high, landlubber!\")\n",
    "        \n",
    "    tries = tries +1\n",
    "\n",
    "if guess==secret:\n",
    "    print(\"Avast! Ye got it! Found my secret, ye did!\")\n",
    "else:\n",
    "    print(\"no more guesses! Better luck next time, matey!\")\n",
    "    print(\"The secret number was\",secret)"
   ]
  },
  {
   "cell_type": "code",
   "execution_count": 2,
   "metadata": {},
   "outputs": [],
   "source": [
    "# as homework, I want you to use a for loop instead of a while loop to accomplish the same task\n",
    "# before you start, look at the code below to show you how for loops in python work"
   ]
  },
  {
   "cell_type": "code",
   "execution_count": 3,
   "metadata": {},
   "outputs": [
    {
     "name": "stdout",
     "output_type": "stream",
     "text": [
      "0\n",
      "1\n",
      "2\n",
      "3\n",
      "4\n"
     ]
    }
   ],
   "source": [
    "# range(n) is a function that creates a list from [0,1,..,n-1]\n",
    "for i in range(5):\n",
    "    print(i)"
   ]
  },
  {
   "cell_type": "code",
   "execution_count": 4,
   "metadata": {},
   "outputs": [
    {
     "name": "stdout",
     "output_type": "stream",
     "text": [
      "0\n",
      "1\n",
      "2\n",
      "3\n"
     ]
    }
   ],
   "source": [
    "# here is how we break out of a loop\n",
    "for i in range(5):\n",
    "    if i>3:\n",
    "        break\n",
    "    print(i)"
   ]
  },
  {
   "cell_type": "code",
   "execution_count": 1,
   "metadata": {},
   "outputs": [
    {
     "name": "stdout",
     "output_type": "stream",
     "text": [
      "AHOY! I'm Dread Pirate Roberts, and I have a secret!\n",
      "It is a number from 1 to 99.  I'll give you 6 tries\n",
      "What's yer guess?  50\n",
      "Too high, landlubber!\n",
      "What's yer guess?  50\n",
      "Too high, landlubber!\n",
      "What's yer guess?  50\n",
      "Too high, landlubber!\n",
      "What's yer guess?  50\n",
      "Too high, landlubber!\n",
      "What's yer guess?  50\n",
      "Too high, landlubber!\n",
      "What's yer guess?  50\n",
      "Too high, landlubber!\n",
      "no more guesses! Better luck next time, matey!\n",
      "The secret number was 9\n"
     ]
    }
   ],
   "source": [
    "# put your guessing game that uses a loop here:\n",
    "secret = random.randint(1,99)\n",
    "\n",
    "guess = 0\n",
    "tries = 6\n",
    "\n",
    "print(\"AHOY! I'm Dread Pirate Roberts, and I have a secret!\")\n",
    "print(\"It is a number from 1 to 99.  I'll give you 6 tries\")\n",
    "\n",
    "for t in range(tries):\n",
    "    user_input = input(\"What's yer guess?  \")\n",
    "    guess = int(user_input)\n",
    "    \n",
    "    if guess < secret:\n",
    "        print(\"Too low, ye scurvy dog!\")\n",
    "    elif guess > secret:\n",
    "        print(\"Too high, landlubber!\")        \n",
    "    elif guess==secret:        \n",
    "        print(\"Avast! Ye got it! Found my secret, ye did!\")\n",
    "        break\n",
    "else:       \n",
    "    print(\"no more guesses! Better luck next time, matey!\")\n",
    "    print(\"The secret number was\",secret)"
   ]
  },
  {
   "cell_type": "code",
   "execution_count": null,
   "metadata": {},
   "outputs": [],
   "source": [
    "# put your guessing game that uses a loop here:\n",
    "secret = random.randint(1,99)\n",
    "\n",
    "guess = 0\n",
    "tries = 6\n",
    "\n",
    "print(\"AHOY! I'm Dread Pirate Roberts, and I have a secret!\")\n",
    "print(\"It is a number from 1 to 99.  I'll give you 6 tries\")\n",
    "\n",
    "for t in range(tries):\n",
    "    user_input = input(\"What's yer guess?  \")\n",
    "    guess = int(user_input)\n",
    "    \n",
    "    if guess < secret:\n",
    "        print(\"Too low, ye scurvy dog!\")\n",
    "    elif guess > secret:\n",
    "        print(\"Too high, landlubber!\")        \n",
    "    elif guess==secret:        \n",
    "        print(\"Avast! Ye got it! Found my secret, ye did!\")\n",
    "        break\n",
    "    # test whether this is the last try\n",
    "    if t==tries-1\n",
    "        print(\"no more guesses! Better luck next time, matey!\")\n",
    "        print(\"The secret number was\",secret)"
   ]
  },
  {
   "cell_type": "code",
   "execution_count": 3,
   "metadata": {},
   "outputs": [
    {
     "name": "stdout",
     "output_type": "stream",
     "text": [
      "1.7320508075688772\n"
     ]
    }
   ],
   "source": [
    "# you should always import this way as not to polute your namespace\n",
    "import math\n",
    "print(math.sqrt(3))"
   ]
  },
  {
   "cell_type": "code",
   "execution_count": 5,
   "metadata": {},
   "outputs": [
    {
     "name": "stdout",
     "output_type": "stream",
     "text": [
      "1.5\n",
      "1.7320508075688772\n"
     ]
    }
   ],
   "source": [
    "# here I show how dangerous it is to import names\n",
    "def sqrt(x):\n",
    "    return x/2\n",
    "\n",
    "print(sqrt(3))\n",
    "\n",
    "from math import sqrt\n",
    "print(sqrt(3))"
   ]
  },
  {
   "cell_type": "code",
   "execution_count": 6,
   "metadata": {},
   "outputs": [
    {
     "name": "stdout",
     "output_type": "stream",
     "text": [
      "1.7320508075688772\n"
     ]
    }
   ],
   "source": [
    "import math as m\n",
    "print(m.sqrt(3))"
   ]
  },
  {
   "cell_type": "code",
   "execution_count": null,
   "metadata": {},
   "outputs": [],
   "source": []
  }
 ],
 "metadata": {
  "kernelspec": {
   "display_name": "Python 3",
   "language": "python",
   "name": "python3"
  },
  "language_info": {
   "codemirror_mode": {
    "name": "ipython",
    "version": 3
   },
   "file_extension": ".py",
   "mimetype": "text/x-python",
   "name": "python",
   "nbconvert_exporter": "python",
   "pygments_lexer": "ipython3",
   "version": "3.6.6"
  }
 },
 "nbformat": 4,
 "nbformat_minor": 2
}
