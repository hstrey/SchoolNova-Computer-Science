{
 "cells": [
  {
   "cell_type": "markdown",
   "metadata": {},
   "source": [
    "# Homework 10-28-18\n",
    "Last class we coded fuzzbuzz"
   ]
  },
  {
   "cell_type": "code",
   "execution_count": 2,
   "metadata": {},
   "outputs": [],
   "source": [
    "# solution by Helmut Strey\n",
    "# as homework, I would like you to write a little code in which you\n",
    "# combine a loop and if statements"
   ]
  },
  {
   "cell_type": "code",
   "execution_count": 1,
   "metadata": {},
   "outputs": [
    {
     "name": "stdout",
     "output_type": "stream",
     "text": [
      "pear\n",
      "dog\n",
      "tree\n",
      "apple\n",
      "grass\n",
      "hamster\n"
     ]
    }
   ],
   "source": [
    "mylist = ['pear','dog','tree','apple','grass','hamster']\n",
    "for stuff in mylist:\n",
    "    print(stuff)"
   ]
  },
  {
   "cell_type": "code",
   "execution_count": 2,
   "metadata": {},
   "outputs": [
    {
     "name": "stdout",
     "output_type": "stream",
     "text": [
      "pear  : fruit\n",
      "dog  : animal\n",
      "tree  : plant\n",
      "apple  : fruit\n",
      "grass  : plant\n",
      "hamster  : animal\n",
      "sunflower  : "
     ]
    }
   ],
   "source": [
    "# please write code below to loop through the list as above\n",
    "# but also print whether the stuff in the list is a fruit, animal or plant\n",
    "# example:\n",
    "# pear : fruit\n",
    "# dog : animal\n",
    "#\n",
    "# put code below\n",
    "mylist = ['pear','dog','tree','apple','grass','hamster','sunflower']\n",
    "for stuff in mylist:\n",
    "    print(stuff,\" : \",end = '')\n",
    "    \n",
    "    if (stuff=='tree') or (stuff=='grass'):\n",
    "        print(\"plant\")\n",
    "    elif (stuff=='dog') or (stuff=='hamster'):\n",
    "        print(\"animal\")\n",
    "    elif (stuff=='pear') or (stuff=='apple'):\n",
    "        print(\"fruit\")\n",
    "        "
   ]
  },
  {
   "cell_type": "code",
   "execution_count": 4,
   "metadata": {},
   "outputs": [
    {
     "name": "stdout",
     "output_type": "stream",
     "text": [
      "pear  : fruit\n",
      "dog  : animal\n",
      "tree  : plant\n",
      "apple  : fruit\n",
      "grass  : plant\n",
      "hamster  : animal\n",
      "sunflower  : plant\n"
     ]
    }
   ],
   "source": [
    "mylist = ['pear','dog','tree','apple','grass','hamster','sunflower']\n",
    "plants = ['tree','grass','sunflower']\n",
    "animals = ['dog','hamster']\n",
    "fruits = ['apple','pear']\n",
    "for stuff in mylist:\n",
    "    print(stuff,\" : \",end = '')\n",
    "    if stuff in plants:\n",
    "        print(\"plant\")\n",
    "    elif stuff in animals:\n",
    "        print(\"animal\")\n",
    "    elif stuff in fruits:\n",
    "        print(\"fruit\")\n",
    "    "
   ]
  },
  {
   "cell_type": "code",
   "execution_count": 5,
   "metadata": {},
   "outputs": [],
   "source": [
    "stuff_dict = {'dog':'animal',\n",
    "             'hamster':'animal',\n",
    "             'tree':'plant',\n",
    "             'sunflower':'plant',\n",
    "             'grass':'plant',\n",
    "             'pear':'fruit',\n",
    "             'apple':'fruit'}"
   ]
  },
  {
   "cell_type": "code",
   "execution_count": 7,
   "metadata": {},
   "outputs": [
    {
     "name": "stdout",
     "output_type": "stream",
     "text": [
      "dog  :  animal\n",
      "hamster  :  animal\n",
      "tree  :  plant\n",
      "sunflower  :  plant\n",
      "grass  :  plant\n",
      "pear  :  fruit\n",
      "apple  :  fruit\n"
     ]
    }
   ],
   "source": [
    "for key in stuff_dict:\n",
    "    print(key, \" : \",stuff_dict[key])"
   ]
  },
  {
   "cell_type": "code",
   "execution_count": 8,
   "metadata": {},
   "outputs": [
    {
     "name": "stdout",
     "output_type": "stream",
     "text": [
      "animal\n",
      "animal\n",
      "plant\n",
      "plant\n",
      "plant\n",
      "fruit\n",
      "fruit\n"
     ]
    }
   ],
   "source": [
    "for value in stuff_dict.values():\n",
    "    print(value)"
   ]
  },
  {
   "cell_type": "code",
   "execution_count": 9,
   "metadata": {},
   "outputs": [
    {
     "name": "stdout",
     "output_type": "stream",
     "text": [
      "dog\n",
      "hamster\n",
      "tree\n",
      "sunflower\n",
      "grass\n",
      "pear\n",
      "apple\n"
     ]
    }
   ],
   "source": [
    "for key in stuff_dict.keys():\n",
    "    print(key)"
   ]
  },
  {
   "cell_type": "code",
   "execution_count": 10,
   "metadata": {},
   "outputs": [
    {
     "name": "stdout",
     "output_type": "stream",
     "text": [
      "dog  :  animal\n",
      "hamster  :  animal\n",
      "tree  :  plant\n",
      "sunflower  :  plant\n",
      "grass  :  plant\n",
      "pear  :  fruit\n",
      "apple  :  fruit\n"
     ]
    }
   ],
   "source": [
    "for key,value in stuff_dict.items():\n",
    "    print(key,\" : \",value)"
   ]
  },
  {
   "cell_type": "code",
   "execution_count": 11,
   "metadata": {},
   "outputs": [
    {
     "data": {
      "text/plain": [
       "dict_items([('dog', 'animal'), ('hamster', 'animal'), ('tree', 'plant'), ('sunflower', 'plant'), ('grass', 'plant'), ('pear', 'fruit'), ('apple', 'fruit')])"
      ]
     },
     "execution_count": 11,
     "metadata": {},
     "output_type": "execute_result"
    }
   ],
   "source": [
    "stuff_dict.items()"
   ]
  },
  {
   "cell_type": "code",
   "execution_count": 14,
   "metadata": {},
   "outputs": [
    {
     "name": "stdout",
     "output_type": "stream",
     "text": [
      "2 3\n"
     ]
    }
   ],
   "source": [
    "# tuple unpacking\n",
    "def tuple_unpacking():\n",
    "    return 2,3\n",
    "\n",
    "a,b = tuple_unpacking()\n",
    "print(a,b)"
   ]
  },
  {
   "cell_type": "code",
   "execution_count": null,
   "metadata": {},
   "outputs": [],
   "source": []
  }
 ],
 "metadata": {
  "kernelspec": {
   "display_name": "Python 3",
   "language": "python",
   "name": "python3"
  },
  "language_info": {
   "codemirror_mode": {
    "name": "ipython",
    "version": 3
   },
   "file_extension": ".py",
   "mimetype": "text/x-python",
   "name": "python",
   "nbconvert_exporter": "python",
   "pygments_lexer": "ipython3",
   "version": "3.7.0"
  }
 },
 "nbformat": 4,
 "nbformat_minor": 2
}
