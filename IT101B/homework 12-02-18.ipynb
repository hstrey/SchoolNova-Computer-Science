{
 "cells": [
  {
   "cell_type": "markdown",
   "metadata": {},
   "source": [
    "# Homework 12-02-18\n",
    "more strings"
   ]
  },
  {
   "cell_type": "code",
   "execution_count": 1,
   "metadata": {},
   "outputs": [],
   "source": [
    "# last homework, we wrote a function that encodes a string using Ceasar's chipher\n",
    "# the basic idea of Ceasar's cipher is that the alphabet is shifted by a fixed number\n",
    "# in order to encode we need to take every character and shift it along the alphabet by n places\n",
    "# for example n=3\n",
    "# A->D, B->E, C->F, ..., W ->Z, X->A, Y->B, Z->C\n",
    "# this example shows that the procedure has to wrap around at the end to represent all character values\n",
    "# In order to solve this problem you will have to understand how to convert characters into numbers"
   ]
  },
  {
   "cell_type": "code",
   "execution_count": 2,
   "metadata": {},
   "outputs": [],
   "source": [
    "# here is the code that we developed in class\n",
    "def ceasar_encode(string, shift):\n",
    "    # add your code here\n",
    "    code_list=[]\n",
    "    for letter in string:\n",
    "        number = (ord(letter)-65 + shift)%26\n",
    "        code_list.append(chr(number+65))\n",
    "    return \"\".join(code_list)"
   ]
  },
  {
   "cell_type": "code",
   "execution_count": 3,
   "metadata": {},
   "outputs": [
    {
     "data": {
      "text/plain": [
       "'VFKRROQRYDLVDZHVRPH'"
      ]
     },
     "execution_count": 3,
     "metadata": {},
     "output_type": "execute_result"
    }
   ],
   "source": [
    "ceasar_encode('SCHOOLNOVAISAWESOME',3)"
   ]
  },
  {
   "cell_type": "code",
   "execution_count": 4,
   "metadata": {},
   "outputs": [
    {
     "data": {
      "text/plain": [
       "'SCHOOLNOVAISAWESOME'"
      ]
     },
     "execution_count": 4,
     "metadata": {},
     "output_type": "execute_result"
    }
   ],
   "source": [
    "ceasar_encode('VFKRROQRYDLVDZHVRPH',-3)"
   ]
  },
  {
   "cell_type": "code",
   "execution_count": 7,
   "metadata": {},
   "outputs": [],
   "source": [
    "# as homework, I would like you to extend this encode function\n",
    "# instead of shift, we will use a code word (password)\n",
    "# as with the string that we want to encode, we convert the letters\n",
    "# of the password into numbers from 0-25 (A -> 0, B -> 1,...,Z -> 25)\n",
    "# The string is then encoded in the following matter:\n",
    "# the first letter is shifted by the first letter of the password\n",
    "# the second letter is shifted by the second letter of the password\n",
    "# continue this way\n",
    "# if you used up all the letters of the password start again with the first letter\n",
    "# und keep going until you have encoded all letters of the string\n",
    "# here is the code that we developed in class\n",
    "def fancy_ceasar_encode(string, password):\n",
    "    code_list = []\n",
    "    string_list = [ord(c)-65 for c in string]\n",
    "    pw_list = [ord(c)-65 for c in password]\n",
    "    modpw = len(pw_list)\n",
    "#    print(string_list)\n",
    "#    print(pw_list)\n",
    "    for index,letter in enumerate(string_list):\n",
    "        encode_letter = (letter + pw_list[index % modpw]) % 26\n",
    "        code_list.append(chr(encode_letter+65))\n",
    "        \n",
    "    return \"\".join(code_list)"
   ]
  },
  {
   "cell_type": "code",
   "execution_count": 9,
   "metadata": {},
   "outputs": [
    {
     "name": "stdout",
     "output_type": "stream",
     "text": [
      "SBAONENNOA\n"
     ]
    }
   ],
   "source": [
    "en = fancy_ceasar_encode('SCHOOLNOVA','AZT')\n",
    "print(en)"
   ]
  },
  {
   "cell_type": "code",
   "execution_count": 14,
   "metadata": {},
   "outputs": [
    {
     "data": {
      "text/plain": [
       "'SCHOOLNOVA'"
      ]
     },
     "execution_count": 14,
     "metadata": {},
     "output_type": "execute_result"
    }
   ],
   "source": [
    "fancy_ceasar_encode(en,'ABH')"
   ]
  },
  {
   "cell_type": "code",
   "execution_count": 12,
   "metadata": {},
   "outputs": [
    {
     "name": "stdout",
     "output_type": "stream",
     "text": [
      "7\n"
     ]
    }
   ],
   "source": [
    "print(-ord('T')+65+26)"
   ]
  },
  {
   "cell_type": "code",
   "execution_count": 23,
   "metadata": {},
   "outputs": [],
   "source": [
    "# here is a fancier version of the program using itertools.cycle\n",
    "# cycle turns a list into a repeated cycle of element similar to\n",
    "# what we tried using modulus\n",
    "from itertools import cycle\n",
    "def fancy_ceasar_encode(string, password):\n",
    "    code_list = []\n",
    "    string_list = [ord(c)-65 for c in string]\n",
    "    pw_list = cycle([ord(c)-65 for c in password])\n",
    "    for letter in string_list:\n",
    "        encode_letter = (letter + next(pw_list)) % 26\n",
    "        code_list.append(chr(encode_letter+65))\n",
    "        \n",
    "    return \"\".join(code_list)"
   ]
  },
  {
   "cell_type": "code",
   "execution_count": 24,
   "metadata": {},
   "outputs": [
    {
     "name": "stdout",
     "output_type": "stream",
     "text": [
      "SBAONENNOA\n"
     ]
    }
   ],
   "source": [
    "en = fancy_ceasar_encode('SCHOOLNOVA','AZT')\n",
    "print(en)"
   ]
  },
  {
   "cell_type": "code",
   "execution_count": null,
   "metadata": {},
   "outputs": [],
   "source": []
  }
 ],
 "metadata": {
  "kernelspec": {
   "display_name": "Python 3",
   "language": "python",
   "name": "python3"
  },
  "language_info": {
   "codemirror_mode": {
    "name": "ipython",
    "version": 3
   },
   "file_extension": ".py",
   "mimetype": "text/x-python",
   "name": "python",
   "nbconvert_exporter": "python",
   "pygments_lexer": "ipython3",
   "version": "3.7.0"
  }
 },
 "nbformat": 4,
 "nbformat_minor": 2
}
