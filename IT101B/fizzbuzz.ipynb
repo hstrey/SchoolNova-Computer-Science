{
 "cells": [
  {
   "cell_type": "code",
   "execution_count": 1,
   "metadata": {},
   "outputs": [
    {
     "name": "stdout",
     "output_type": "stream",
     "text": [
      "1\n",
      "2\n",
      "3\n",
      "4\n",
      "5\n",
      "6\n",
      "7\n",
      "8\n",
      "9\n",
      "10\n",
      "11\n",
      "12\n",
      "13\n",
      "14\n",
      "15\n",
      "16\n",
      "17\n",
      "18\n",
      "19\n",
      "20\n",
      "21\n",
      "22\n",
      "23\n",
      "24\n",
      "25\n",
      "26\n",
      "27\n",
      "28\n",
      "29\n",
      "30\n",
      "31\n",
      "32\n",
      "33\n",
      "34\n",
      "35\n",
      "36\n",
      "37\n",
      "38\n",
      "39\n",
      "40\n",
      "41\n",
      "42\n",
      "43\n",
      "44\n",
      "45\n",
      "46\n",
      "47\n",
      "48\n",
      "49\n",
      "50\n"
     ]
    }
   ],
   "source": [
    "# print the first 50 natural numbers\n",
    "for i in range(1,51):\n",
    "    print(i)"
   ]
  },
  {
   "cell_type": "code",
   "execution_count": 7,
   "metadata": {},
   "outputs": [
    {
     "name": "stdout",
     "output_type": "stream",
     "text": [
      "a is divisible by 3&5\n"
     ]
    }
   ],
   "source": [
    "# test divisibility\n",
    "a = 45\n",
    "if (a % 3 ==0) and (a % 5 ==0):\n",
    "    print(\"a is divisible by 3&5\")"
   ]
  },
  {
   "cell_type": "code",
   "execution_count": 13,
   "metadata": {},
   "outputs": [
    {
     "name": "stdout",
     "output_type": "stream",
     "text": [
      "3 or 4\n"
     ]
    }
   ],
   "source": [
    "# the workings of if\n",
    "b =3\n",
    "if b>4:\n",
    "    print(\"b>4\")\n",
    "elif b<3:\n",
    "    print(\"b<3\")\n",
    "else:\n",
    "    print(\"3 or 4\")"
   ]
  },
  {
   "cell_type": "code",
   "execution_count": 17,
   "metadata": {},
   "outputs": [
    {
     "name": "stdout",
     "output_type": "stream",
     "text": [
      "1\n",
      "2\n",
      "3\n",
      "fizz\n",
      "4\n",
      "5\n",
      "buzz\n",
      "6\n",
      "fizz\n",
      "7\n",
      "8\n",
      "9\n",
      "fizz\n",
      "10\n",
      "buzz\n",
      "11\n",
      "12\n",
      "fizz\n",
      "13\n",
      "14\n",
      "15\n",
      "fizzbuzz\n",
      "16\n",
      "17\n",
      "18\n",
      "fizz\n",
      "19\n",
      "20\n",
      "buzz\n",
      "21\n",
      "fizz\n",
      "22\n",
      "23\n",
      "24\n",
      "fizz\n",
      "25\n",
      "buzz\n",
      "26\n",
      "27\n",
      "fizz\n",
      "28\n",
      "29\n",
      "30\n",
      "fizzbuzz\n",
      "31\n",
      "32\n",
      "33\n",
      "fizz\n",
      "34\n",
      "35\n",
      "buzz\n",
      "36\n",
      "fizz\n",
      "37\n",
      "38\n",
      "39\n",
      "fizz\n",
      "40\n",
      "buzz\n",
      "41\n",
      "42\n",
      "fizz\n",
      "43\n",
      "44\n",
      "45\n",
      "fizzbuzz\n",
      "46\n",
      "47\n",
      "48\n",
      "fizz\n",
      "49\n",
      "50\n",
      "buzz\n"
     ]
    }
   ],
   "source": [
    "# print the first 50 natural numbers\n",
    "for i in range(1,51):\n",
    "    print(i)\n",
    "    if (i%3==0) and (i%5==0):\n",
    "        print(\"fizzbuzz\")\n",
    "    elif (i%3==0):\n",
    "        print(\"fizz\")\n",
    "    elif (i%5==0):\n",
    "        print(\"buzz\")"
   ]
  },
  {
   "cell_type": "code",
   "execution_count": 19,
   "metadata": {},
   "outputs": [
    {
     "name": "stdout",
     "output_type": "stream",
     "text": [
      "1 : \n",
      "2 : \n",
      "3 : fizz\n",
      "4 : \n",
      "5 : buzz\n",
      "6 : fizz\n",
      "7 : \n",
      "8 : \n",
      "9 : fizz\n",
      "10 : buzz\n",
      "11 : \n",
      "12 : fizz\n",
      "13 : \n",
      "14 : \n",
      "15 : fizzbuzz\n",
      "16 : \n",
      "17 : \n",
      "18 : fizz\n",
      "19 : \n",
      "20 : buzz\n",
      "21 : fizz\n",
      "22 : \n",
      "23 : \n",
      "24 : fizz\n",
      "25 : buzz\n",
      "26 : \n",
      "27 : fizz\n",
      "28 : \n",
      "29 : \n",
      "30 : fizzbuzz\n",
      "31 : \n",
      "32 : \n",
      "33 : fizz\n",
      "34 : \n",
      "35 : buzz\n",
      "36 : fizz\n",
      "37 : \n",
      "38 : \n",
      "39 : fizz\n",
      "40 : buzz\n",
      "41 : \n",
      "42 : fizz\n",
      "43 : \n",
      "44 : \n",
      "45 : fizzbuzz\n",
      "46 : \n",
      "47 : \n",
      "48 : fizz\n",
      "49 : \n",
      "50 : buzz\n"
     ]
    }
   ],
   "source": [
    "# print the first 50 natural numbers\n",
    "for i in range(1,51):\n",
    "    print(i,\": \", end='')\n",
    "    if (i%3==0):\n",
    "        print(\"fizz\",end='')\n",
    "    if (i%5==0):\n",
    "        print(\"buzz\",end='')\n",
    "    print()"
   ]
  },
  {
   "cell_type": "code",
   "execution_count": null,
   "metadata": {},
   "outputs": [],
   "source": []
  }
 ],
 "metadata": {
  "kernelspec": {
   "display_name": "Python 3",
   "language": "python",
   "name": "python3"
  },
  "language_info": {
   "codemirror_mode": {
    "name": "ipython",
    "version": 3
   },
   "file_extension": ".py",
   "mimetype": "text/x-python",
   "name": "python",
   "nbconvert_exporter": "python",
   "pygments_lexer": "ipython3",
   "version": "3.6.6"
  }
 },
 "nbformat": 4,
 "nbformat_minor": 2
}
