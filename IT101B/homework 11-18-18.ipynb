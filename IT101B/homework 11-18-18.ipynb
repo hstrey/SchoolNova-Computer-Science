{
 "cells": [
  {
   "cell_type": "markdown",
   "metadata": {},
   "source": [
    "# Homework 11-18-18\n",
    "strings"
   ]
  },
  {
   "cell_type": "code",
   "execution_count": 2,
   "metadata": {},
   "outputs": [],
   "source": [
    "# as homework, I would like you to write a function that encodes a string using Ceasar's chipher\n",
    "# the basic idea of Ceasar's cipher is that the alphabet is shifted by a fixed number\n",
    "# in order to encode we need to take every character and shift it along the alphabet by n places\n",
    "# for example n=3\n",
    "# A->D, B->E, C->F, ..., W ->Z, X->A, Y->B, Z->C\n",
    "# this example shows that the procedure has to wrap around at the end to represent all character values\n",
    "# In order to solve this problem you will have to understand how to convert characters into numbers"
   ]
  },
  {
   "cell_type": "code",
   "execution_count": 1,
   "metadata": {},
   "outputs": [
    {
     "name": "stdout",
     "output_type": "stream",
     "text": [
      "65\n"
     ]
    }
   ],
   "source": [
    "# you convert a character into a number by using the function ord()\n",
    "print(ord('A'))"
   ]
  },
  {
   "cell_type": "code",
   "execution_count": 2,
   "metadata": {},
   "outputs": [
    {
     "name": "stdout",
     "output_type": "stream",
     "text": [
      "A\n"
     ]
    }
   ],
   "source": [
    "# the reverse can be done by chr()\n",
    "print(chr(65))"
   ]
  },
  {
   "cell_type": "code",
   "execution_count": 3,
   "metadata": {},
   "outputs": [
    {
     "name": "stdout",
     "output_type": "stream",
     "text": [
      "D\n"
     ]
    }
   ],
   "source": [
    "# In order to shift by three you could do the following\n",
    "print(chr(ord('A')+3))"
   ]
  },
  {
   "cell_type": "code",
   "execution_count": 7,
   "metadata": {},
   "outputs": [
    {
     "name": "stdout",
     "output_type": "stream",
     "text": [
      "LHPM\n"
     ]
    }
   ],
   "source": [
    "# once you have a list of characters that are encoded you can create a string from\n",
    "# a list using join\n",
    "l = ['L','H','P','M']\n",
    "joined_string = \"\".join(l)\n",
    "print(joined_string)"
   ]
  },
  {
   "cell_type": "code",
   "execution_count": 9,
   "metadata": {},
   "outputs": [],
   "source": [
    "# here is the definition of the function\n",
    "# the input will be a string of uppercase letters without spaces\n",
    "# e.g. \"SCHOOLNOVAISAWESOME\" shifted by 3 results in \"VFKRROQRYDLVDZHVRPH\"\n",
    "def ceasar_encode(string, shift):\n",
    "    # add your code here\n",
    "    pass"
   ]
  }
 ],
 "metadata": {
  "kernelspec": {
   "display_name": "Python 3",
   "language": "python",
   "name": "python3"
  },
  "language_info": {
   "codemirror_mode": {
    "name": "ipython",
    "version": 3
   },
   "file_extension": ".py",
   "mimetype": "text/x-python",
   "name": "python",
   "nbconvert_exporter": "python",
   "pygments_lexer": "ipython3",
   "version": "3.7.0"
  }
 },
 "nbformat": 4,
 "nbformat_minor": 2
}
