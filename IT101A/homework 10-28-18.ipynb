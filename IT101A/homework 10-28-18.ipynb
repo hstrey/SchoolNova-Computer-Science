{
 "cells": [
  {
   "cell_type": "markdown",
   "metadata": {},
   "source": [
    "# Homework 10-28-18\n",
    "Last class we coded fuzzbuzz"
   ]
  },
  {
   "cell_type": "code",
   "execution_count": 1,
   "metadata": {},
   "outputs": [],
   "source": [
    "# as homework, I would like you to write a little code in which you\n",
    "# combine a loop and if statements"
   ]
  },
  {
   "cell_type": "code",
   "execution_count": 2,
   "metadata": {},
   "outputs": [
    {
     "name": "stdout",
     "output_type": "stream",
     "text": [
      "pear\n",
      "dog\n",
      "tree\n",
      "apple\n",
      "grass\n",
      "hamster\n"
     ]
    }
   ],
   "source": [
    "mylist = ['pear','dog','tree','apple','grass','hamster']\n",
    "for stuff in mylist:\n",
    "    print(stuff)"
   ]
  },
  {
   "cell_type": "code",
   "execution_count": 4,
   "metadata": {},
   "outputs": [
    {
     "name": "stdout",
     "output_type": "stream",
     "text": [
      "pear : fruit\n",
      "dog : animal\n",
      "tree : plant\n",
      "apple : fruit\n",
      "grass : plant\n",
      "hamster : animal\n"
     ]
    }
   ],
   "source": [
    "# please write code below to loop through the list as above\n",
    "# but also print whether the stuff in the list is a fruit, animal or plant\n",
    "# example:\n",
    "# pear : fruit\n",
    "# dog : animal\n",
    "#\n",
    "# put code below\n",
    "mylist = ['pear','dog','tree','apple','grass','hamster']\n",
    "for stuff in mylist:\n",
    "    print(stuff,\":\",end=\" \")\n",
    "    if (stuff==\"tree\") or (stuff=='grass'):\n",
    "        print(\"plant\")\n",
    "    elif (stuff==\"apple\") or (stuff ==\"pear\"):\n",
    "        print(\"fruit\")\n",
    "    elif (stuff==\"dog\") or (stuff ==\"hamster\"):\n",
    "        print(\"animal\")\n"
   ]
  },
  {
   "cell_type": "code",
   "execution_count": 7,
   "metadata": {},
   "outputs": [
    {
     "name": "stdout",
     "output_type": "stream",
     "text": [
      "pear : fruits\n",
      "dog : animals\n",
      "tree : plant\n",
      "apple : fruits\n",
      "grass : plant\n",
      "hamster : animals\n",
      "sunflower : plant\n"
     ]
    }
   ],
   "source": [
    "# lets give this another try\n",
    "mylist = ['pear','dog','tree','apple','grass','hamster','sunflower']\n",
    "plants = ['tree','grass','sunflower']\n",
    "animals = ['dog','hamster']\n",
    "fruits = ['pear','apple']\n",
    "for stuff in mylist:\n",
    "    print(stuff,\":\",end=\" \")\n",
    "    if stuff in plants:\n",
    "        print(\"plant\")\n",
    "    if stuff in animals:\n",
    "        print(\"animals\")\n",
    "    if stuff in fruits:\n",
    "        print(\"fruits\")"
   ]
  },
  {
   "cell_type": "code",
   "execution_count": 10,
   "metadata": {},
   "outputs": [
    {
     "data": {
      "text/plain": [
       "True"
      ]
     },
     "execution_count": 10,
     "metadata": {},
     "output_type": "execute_result"
    }
   ],
   "source": [
    "# how to test whether something is in a list\n",
    "1 in [1,2,3,1]"
   ]
  },
  {
   "cell_type": "code",
   "execution_count": 9,
   "metadata": {},
   "outputs": [
    {
     "data": {
      "text/plain": [
       "False"
      ]
     },
     "execution_count": 9,
     "metadata": {},
     "output_type": "execute_result"
    }
   ],
   "source": [
    "4 in [1,2,3]"
   ]
  },
  {
   "cell_type": "code",
   "execution_count": 11,
   "metadata": {},
   "outputs": [],
   "source": [
    "stuff_dict = {'apple':'fruit',\n",
    "            'pear':'fruit',\n",
    "            'sunflower':'plant',\n",
    "            'tree':'plant',\n",
    "            'hamster':'animal',\n",
    "            'dog':'animal',\n",
    "             'grass':'plant'}"
   ]
  },
  {
   "cell_type": "code",
   "execution_count": 12,
   "metadata": {},
   "outputs": [
    {
     "name": "stdout",
     "output_type": "stream",
     "text": [
      "pear : fruit\n",
      "dog : animal\n",
      "tree : plant\n",
      "apple : fruit\n",
      "grass : plant\n",
      "hamster : animal\n",
      "sunflower : plant\n"
     ]
    }
   ],
   "source": [
    "for stuff in mylist:\n",
    "    print(stuff,\":\",stuff_dict[stuff])"
   ]
  },
  {
   "cell_type": "code",
   "execution_count": 15,
   "metadata": {},
   "outputs": [
    {
     "name": "stdout",
     "output_type": "stream",
     "text": [
      "apple   fruit\n",
      "pear   fruit\n",
      "sunflower   plant\n",
      "tree   plant\n",
      "hamster   animal\n",
      "dog   animal\n",
      "grass   plant\n"
     ]
    }
   ],
   "source": [
    "for key in stuff_dict:\n",
    "    print(key,\" \",stuff_dict[key])"
   ]
  },
  {
   "cell_type": "code",
   "execution_count": 17,
   "metadata": {},
   "outputs": [
    {
     "name": "stdout",
     "output_type": "stream",
     "text": [
      "apple   fruit\n",
      "pear   fruit\n",
      "sunflower   plant\n",
      "tree   plant\n",
      "hamster   animal\n",
      "dog   animal\n",
      "grass   plant\n"
     ]
    }
   ],
   "source": [
    "for key,value in stuff_dict.items():\n",
    "    print(key,\" \",value)"
   ]
  },
  {
   "cell_type": "code",
   "execution_count": 18,
   "metadata": {},
   "outputs": [
    {
     "data": {
      "text/plain": [
       "dict_items([('apple', 'fruit'), ('pear', 'fruit'), ('sunflower', 'plant'), ('tree', 'plant'), ('hamster', 'animal'), ('dog', 'animal'), ('grass', 'plant')])"
      ]
     },
     "execution_count": 18,
     "metadata": {},
     "output_type": "execute_result"
    }
   ],
   "source": [
    "stuff_dict.items()"
   ]
  },
  {
   "cell_type": "code",
   "execution_count": 19,
   "metadata": {},
   "outputs": [
    {
     "data": {
      "text/plain": [
       "dict_values(['fruit', 'fruit', 'plant', 'plant', 'animal', 'animal', 'plant'])"
      ]
     },
     "execution_count": 19,
     "metadata": {},
     "output_type": "execute_result"
    }
   ],
   "source": [
    "stuff_dict.values()"
   ]
  },
  {
   "cell_type": "code",
   "execution_count": 20,
   "metadata": {},
   "outputs": [
    {
     "data": {
      "text/plain": [
       "dict_keys(['apple', 'pear', 'sunflower', 'tree', 'hamster', 'dog', 'grass'])"
      ]
     },
     "execution_count": 20,
     "metadata": {},
     "output_type": "execute_result"
    }
   ],
   "source": [
    "stuff_dict.keys()"
   ]
  },
  {
   "cell_type": "code",
   "execution_count": null,
   "metadata": {},
   "outputs": [],
   "source": []
  }
 ],
 "metadata": {
  "kernelspec": {
   "display_name": "Python 3",
   "language": "python",
   "name": "python3"
  },
  "language_info": {
   "codemirror_mode": {
    "name": "ipython",
    "version": 3
   },
   "file_extension": ".py",
   "mimetype": "text/x-python",
   "name": "python",
   "nbconvert_exporter": "python",
   "pygments_lexer": "ipython3",
   "version": "3.6.6"
  }
 },
 "nbformat": 4,
 "nbformat_minor": 2
}
