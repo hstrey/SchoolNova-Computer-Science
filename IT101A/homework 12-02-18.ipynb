{
 "cells": [
  {
   "cell_type": "markdown",
   "metadata": {},
   "source": [
    "# Homework 12-02-18\n",
    "more encoding\n",
    "\n",
    "Here are the instructions for students who do not know how to submit their homework:\n",
    "go to https://github.com/hstrey/SchoolNova-Computer-Science\n",
    "and click on the green button \"clone or download\".  Choose zip.  After unzipping, you should\n",
    "have the most recent notebooks on your computer.  Then start jupyter notebook and find the homework.\n",
    "Start coding.  After you are done, click File->Save Checkpoint.  That will save your solution to\n",
    "the homework ipython notebook.  Attach this file to your email to strey@schoolnova.org\n",
    "\n",
    "Happy coding"
   ]
  },
  {
   "cell_type": "code",
   "execution_count": 25,
   "metadata": {},
   "outputs": [],
   "source": [
    "# last homework, we wrote a function that encodes a string using Ceasar's chipher\n",
    "# the basic idea of Ceasar's cipher is that the alphabet is shifted by a fixed number\n",
    "# in order to encode we need to take every character and shift it along the alphabet by n places\n",
    "# for example n=3\n",
    "# A->D, B->E, C->F, ..., W ->Z, X->A, Y->B, Z->C\n",
    "# this example shows that the procedure has to wrap around at the end to represent all character values\n",
    "# In order to solve this problem you will have to understand how to convert characters into numbers"
   ]
  },
  {
   "cell_type": "code",
   "execution_count": 26,
   "metadata": {},
   "outputs": [],
   "source": [
    "# here is the code that we developed in class\n",
    "def ceasar_encode(string, shift):\n",
    "    # add your code here\n",
    "    code_list=[]\n",
    "    for letter in string:\n",
    "        number = (ord(letter)-65 + shift)%26\n",
    "        code_list.append(chr(number+65))\n",
    "    return \"\".join(code_list)"
   ]
  },
  {
   "cell_type": "code",
   "execution_count": 27,
   "metadata": {},
   "outputs": [
    {
     "data": {
      "text/plain": [
       "'VFKRROQRYDLVDZHVRPH'"
      ]
     },
     "execution_count": 27,
     "metadata": {},
     "output_type": "execute_result"
    }
   ],
   "source": [
    "ceasar_encode('SCHOOLNOVAISAWESOME',3)"
   ]
  },
  {
   "cell_type": "code",
   "execution_count": 28,
   "metadata": {},
   "outputs": [
    {
     "data": {
      "text/plain": [
       "'SCHOOLNOVAISAWESOME'"
      ]
     },
     "execution_count": 28,
     "metadata": {},
     "output_type": "execute_result"
    }
   ],
   "source": [
    "ceasar_encode('VFKRROQRYDLVDZHVRPH',-3)"
   ]
  },
  {
   "cell_type": "code",
   "execution_count": 29,
   "metadata": {},
   "outputs": [],
   "source": [
    "# as homework, I would like you to extend this encode function\n",
    "# instead of shift, we will use a code word (password)\n",
    "# as with the string that we want to encode, we convert the letters\n",
    "# of the password into numbers from 0-25 (A -> 0, B -> 1,...,Z -> 25)\n",
    "# The string is then encoded in the following matter:\n",
    "# the first letter is shifted by the first letter of the password\n",
    "# the second letter is shifted by the second letter of the password\n",
    "# continue this way\n",
    "# if you used up all the letters of the password start again with the first letter\n",
    "# und keep going until you have encoded all letters of the string\n",
    "# here is the code that we developed in class\n",
    "def fancy_ceasar_encode(string, password):\n",
    "    # add your code here\n",
    "    code_list=[]\n",
    "    string_list = [ord(c)-65 for c in string]\n",
    "    pw_list = [ord(c)-65 for c in password]\n",
    "    mod_pass = len(pw_list) # the length of the password\n",
    "                            # is used for modulus\n",
    "    for index,letter in enumerate(string_list):\n",
    "        en_letter = (letter + pw_list[index % mod_pass])%26\n",
    "        code_list.append(chr(en_letter+65))\n",
    "    \n",
    "    return \"\".join(code_list)"
   ]
  },
  {
   "cell_type": "code",
   "execution_count": 30,
   "metadata": {},
   "outputs": [
    {
     "name": "stdout",
     "output_type": "stream",
     "text": [
      "UQTDIERFXO\n"
     ]
    }
   ],
   "source": [
    "en = fancy_ceasar_encode('SCHOOLNOVA','COMPUTER')\n",
    "print(en)"
   ]
  },
  {
   "cell_type": "code",
   "execution_count": 31,
   "metadata": {},
   "outputs": [
    {
     "name": "stdout",
     "output_type": "stream",
     "text": [
      "Y I\n"
     ]
    }
   ],
   "source": [
    "# lets figure out what the inverse password is\n",
    "print(chr(24+65),chr(8+65))"
   ]
  },
  {
   "cell_type": "code",
   "execution_count": 32,
   "metadata": {},
   "outputs": [
    {
     "data": {
      "text/plain": [
       "'SYRLGMPNVW'"
      ]
     },
     "execution_count": 32,
     "metadata": {},
     "output_type": "execute_result"
    }
   ],
   "source": [
    "# and try it\n",
    "fancy_ceasar_encode(en,'YI')"
   ]
  },
  {
   "cell_type": "code",
   "execution_count": null,
   "metadata": {},
   "outputs": [],
   "source": []
  }
 ],
 "metadata": {
  "kernelspec": {
   "display_name": "Python 3",
   "language": "python",
   "name": "python3"
  },
  "language_info": {
   "codemirror_mode": {
    "name": "ipython",
    "version": 3
   },
   "file_extension": ".py",
   "mimetype": "text/x-python",
   "name": "python",
   "nbconvert_exporter": "python",
   "pygments_lexer": "ipython3",
   "version": "3.6.6"
  }
 },
 "nbformat": 4,
 "nbformat_minor": 2
}
