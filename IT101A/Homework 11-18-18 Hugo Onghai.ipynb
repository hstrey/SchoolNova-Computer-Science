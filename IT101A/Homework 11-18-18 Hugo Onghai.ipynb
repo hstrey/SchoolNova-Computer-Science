{
 "cells": [
  {
   "cell_type": "code",
   "execution_count": 1,
   "metadata": {},
   "outputs": [],
   "source": [
    "def ceasar_encode(string, shift):\n",
    "    for x in string:\n",
    "        if (ord(x)+(shift%26))>90:\n",
    "            print(chr(ord(x)+((shift%26)-26)),end='') #this allows for looping of letters\n",
    "        else:\n",
    "            print(chr(ord(x)+(shift%26)),end='')\n",
    "    print(\" \")#to enter new line for next ceasar_encode"
   ]
  },
  {
   "cell_type": "code",
   "execution_count": 2,
   "metadata": {},
   "outputs": [
    {
     "name": "stdout",
     "output_type": "stream",
     "text": [
      "BCDEFGHIJKLMNOPQRSTUVWXYZA \n",
      "THISISASECRET \n",
      "WKLVLVQRWHQFRGHG \n",
      "THISISNOTENCODED \n"
     ]
    }
   ],
   "source": [
    "ceasar_encode(\"ABCDEFGHIJKLMNOPQRSTUVWXYZ\",53)\n",
    "ceasar_encode(\"THISISASECRET\",52)\n",
    "ceasar_encode(\"THISISNOTENCODED\",3)\n",
    "ceasar_encode(\"WKLVLVQRWHQFRGHG\",-3)"
   ]
  },
  {
   "cell_type": "code",
   "execution_count": null,
   "metadata": {},
   "outputs": [],
   "source": []
  }
 ],
 "metadata": {
  "kernelspec": {
   "display_name": "Python 3",
   "language": "python",
   "name": "python3"
  },
  "language_info": {
   "codemirror_mode": {
    "name": "ipython",
    "version": 3
   },
   "file_extension": ".py",
   "mimetype": "text/x-python",
   "name": "python",
   "nbconvert_exporter": "python",
   "pygments_lexer": "ipython3",
   "version": "3.7.0"
  }
 },
 "nbformat": 4,
 "nbformat_minor": 2
}
