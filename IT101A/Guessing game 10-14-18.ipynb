{
 "cells": [
  {
   "cell_type": "code",
   "execution_count": 10,
   "metadata": {},
   "outputs": [],
   "source": [
    "# do all imports here\n",
    "import random\n",
    "import math as m"
   ]
  },
  {
   "cell_type": "code",
   "execution_count": 11,
   "metadata": {},
   "outputs": [
    {
     "name": "stdout",
     "output_type": "stream",
     "text": [
      "AHOY! I'm Dread Pirate Roberts, and I have a secret!\n",
      "It is a number from 1 to 99.  I'll give you 6 tries\n",
      "What's yer guess?  50\n",
      "Too low, ye scurvy dog!\n",
      "What's yer guess?  50\n",
      "Too low, ye scurvy dog!\n",
      "What's yer guess?  50\n",
      "Too low, ye scurvy dog!\n",
      "What's yer guess?  50\n",
      "Too low, ye scurvy dog!\n",
      "What's yer guess?  50\n",
      "Too low, ye scurvy dog!\n",
      "What's yer guess?  50\n",
      "Too low, ye scurvy dog!\n",
      "no more guesses! Better luck next time, matey!\n",
      "The secret number was 80\n"
     ]
    }
   ],
   "source": [
    "secret = random.randint(1,99)\n",
    "\n",
    "guess = 0\n",
    "tries = 0\n",
    "\n",
    "print(\"AHOY! I'm Dread Pirate Roberts, and I have a secret!\")\n",
    "print(\"It is a number from 1 to 99.  I'll give you 6 tries\")\n",
    "\n",
    "while guess != secret and tries < 6:\n",
    "    user_input = input(\"What's yer guess?  \")\n",
    "    guess = int(user_input)\n",
    "    \n",
    "    if guess < secret:\n",
    "        print(\"Too low, ye scurvy dog!\")\n",
    "    elif guess > secret:\n",
    "        print(\"Too high, landlubber!\")\n",
    "        \n",
    "    tries = tries +1\n",
    "\n",
    "if guess==secret:\n",
    "    print(\"Avast! Ye got it! Found my secret, ye did!\")\n",
    "else:\n",
    "    print(\"no more guesses! Better luck next time, matey!\")\n",
    "    print(\"The secret number was\",secret)"
   ]
  },
  {
   "cell_type": "code",
   "execution_count": 12,
   "metadata": {},
   "outputs": [
    {
     "name": "stdout",
     "output_type": "stream",
     "text": [
      "1.0\n",
      "1.7320508075688772\n"
     ]
    }
   ],
   "source": [
    "# don't do it like this\n",
    "# because you may polute your namespace\n",
    "def sqrt(n):\n",
    "    return n/2\n",
    "\n",
    "print(sqrt(2))\n",
    "\n",
    "from math import *\n",
    "print(sqrt(3))"
   ]
  },
  {
   "cell_type": "code",
   "execution_count": 13,
   "metadata": {},
   "outputs": [
    {
     "name": "stdout",
     "output_type": "stream",
     "text": [
      "1.7320508075688772\n"
     ]
    }
   ],
   "source": [
    "# import like below\n",
    "import math\n",
    "print(math.sqrt(3))"
   ]
  },
  {
   "cell_type": "code",
   "execution_count": 14,
   "metadata": {},
   "outputs": [
    {
     "name": "stdout",
     "output_type": "stream",
     "text": [
      "1.7320508075688772\n"
     ]
    }
   ],
   "source": [
    "# here is what you can do if you have trouble typing\n",
    "import math as m\n",
    "print(m.sqrt(3))"
   ]
  },
  {
   "cell_type": "code",
   "execution_count": null,
   "metadata": {},
   "outputs": [],
   "source": []
  }
 ],
 "metadata": {
  "kernelspec": {
   "display_name": "Python [default]",
   "language": "python",
   "name": "python3"
  },
  "language_info": {
   "codemirror_mode": {
    "name": "ipython",
    "version": 3
   },
   "file_extension": ".py",
   "mimetype": "text/x-python",
   "name": "python",
   "nbconvert_exporter": "python",
   "pygments_lexer": "ipython3",
   "version": "3.5.4"
  }
 },
 "nbformat": 4,
 "nbformat_minor": 2
}
